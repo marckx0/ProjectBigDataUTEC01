{
 "cells": [
  {
   "cell_type": "code",
   "execution_count": 1,
   "metadata": {},
   "outputs": [
    {
     "name": "stdout",
     "output_type": "stream",
     "text": [
      "/home/marco/anaconda3/bin/python\n",
      "3.8.3 (default, Jul  2 2020, 16:21:59) \n",
      "[GCC 7.3.0]\n",
      "sys.version_info(major=3, minor=8, micro=3, releaselevel='final', serial=0)\n"
     ]
    }
   ],
   "source": [
    "import sys\n",
    "print(sys.executable)\n",
    "print(sys.version)\n",
    "print(sys.version_info)"
   ]
  },
  {
   "cell_type": "code",
   "execution_count": 2,
   "metadata": {},
   "outputs": [],
   "source": [
    "sc.stop()"
   ]
  },
  {
   "cell_type": "code",
   "execution_count": 3,
   "metadata": {},
   "outputs": [],
   "source": [
    "#sc.stop()\n",
    "\n",
    "from pyspark.sql import SparkSession\n",
    "from pyspark import SparkContext\n",
    "\n",
    "spark = SparkSession\\\n",
    "    .builder\\\n",
    "    .master(\"local[4]\")\\\n",
    "    .appName(\"Feature Enginering\")\\\n",
    "    .getOrCreate()\n",
    "\n",
    "sc = spark.sparkContext"
   ]
  },
  {
   "cell_type": "code",
   "execution_count": 4,
   "metadata": {},
   "outputs": [
    {
     "data": {
      "text/plain": [
       "'16g'"
      ]
     },
     "execution_count": 4,
     "metadata": {},
     "output_type": "execute_result"
    }
   ],
   "source": [
    "sc._conf.get('spark.driver.memory')"
   ]
  },
  {
   "cell_type": "code",
   "execution_count": 5,
   "metadata": {},
   "outputs": [
    {
     "data": {
      "text/plain": [
       "[('spark.master', 'local[4]'),\n",
       " ('spark.local.dir', '/home/marco/claseBigData/ProyectoBD/tmp'),\n",
       " ('spark.app.startTime', '1638933793094'),\n",
       " ('spark.executor.id', 'driver'),\n",
       " ('spark.driver.memory', '16g'),\n",
       " ('spark.driver.host', '192.168.3.5'),\n",
       " ('spark.app.name', 'Feature Enginering'),\n",
       " ('spark.sql.catalogImplementation', 'hive'),\n",
       " ('spark.rdd.compress', 'True'),\n",
       " ('spark.serializer.objectStreamReset', '100'),\n",
       " ('spark.submit.pyFiles', ''),\n",
       " ('spark.submit.deployMode', 'client'),\n",
       " ('spark.app.id', 'local-1638933793171'),\n",
       " ('spark.driver.port', '43561'),\n",
       " ('spark.ui.showConsoleProgress', 'true')]"
      ]
     },
     "execution_count": 5,
     "metadata": {},
     "output_type": "execute_result"
    }
   ],
   "source": [
    "sc._conf.getAll()"
   ]
  },
  {
   "cell_type": "code",
   "execution_count": 6,
   "metadata": {},
   "outputs": [
    {
     "data": {
      "text/plain": [
       "'3.0.3'"
      ]
     },
     "execution_count": 6,
     "metadata": {},
     "output_type": "execute_result"
    }
   ],
   "source": [
    "sc.version"
   ]
  },
  {
   "cell_type": "code",
   "execution_count": 7,
   "metadata": {},
   "outputs": [
    {
     "name": "stdout",
     "output_type": "stream",
     "text": [
      "/home/marco/anaconda3/bin/python\n",
      "3.8.3 (default, Jul  2 2020, 16:21:59) \n",
      "[GCC 7.3.0]\n",
      "sys.version_info(major=3, minor=8, micro=3, releaselevel='final', serial=0)\n"
     ]
    }
   ],
   "source": [
    "print(sys.executable)\n",
    "print(sys.version)\n",
    "print(sys.version_info)"
   ]
  },
  {
   "cell_type": "markdown",
   "metadata": {},
   "source": [
    "![imagenes/](img/DataPreparation.png)"
   ]
  },
  {
   "cell_type": "markdown",
   "metadata": {},
   "source": [
    "#### Carga de fuentes de información"
   ]
  },
  {
   "cell_type": "markdown",
   "metadata": {},
   "source": [
    "Cabeceras:\n",
    "    - origen: numero de origen,\n",
    "    - destino: numero de destino,\n",
    "    - tipo: tipo de llamada,\n",
    "    - segundos: duración de llamada (seg),\n",
    "    - llamadas: numero de llmadas, \n",
    "    - mensajes: numero de sms"
   ]
  },
  {
   "cell_type": "code",
   "execution_count": 8,
   "metadata": {},
   "outputs": [],
   "source": [
    "from pyspark.sql.types import StructField, StructType, StringType,DoubleType\n",
    "custom_schema = StructType([\n",
    "    StructField(\"origen\", StringType(), True),\n",
    "    StructField(\"destino\", StringType(), True),\n",
    "    StructField(\"tipo\", StringType(), True),\n",
    "    StructField(\"segundos\", DoubleType(), True),\n",
    "    StructField(\"llamadas\", DoubleType(), True),\n",
    "    StructField(\"mensajes\", DoubleType(), True)\n",
    "])"
   ]
  },
  {
   "cell_type": "markdown",
   "metadata": {},
   "source": [
    "mtDf = spark.read.format(\"csv\")\\\n",
    "        .schema(custom_schema)\\\n",
    "        .option(\"header\",\"false\")\\\n",
    "        .load(\"../rawData/mt/week2/20150310.csv.sanitaized\")"
   ]
  },
  {
   "cell_type": "markdown",
   "metadata": {},
   "source": [
    "mtDf.show(truncate=True)"
   ]
  },
  {
   "cell_type": "markdown",
   "metadata": {},
   "source": [
    "mtDf.filter(mtDf.tipo!=\"MOBILE\").show()"
   ]
  },
  {
   "cell_type": "code",
   "execution_count": 9,
   "metadata": {},
   "outputs": [],
   "source": [
    "moDf = spark.read.format(\"csv\")\\\n",
    "        .schema(custom_schema)\\\n",
    "        .option(\"header\",\"false\")\\\n",
    "        .load(\"../rawData/mo/week2/20150310.csv\")"
   ]
  },
  {
   "cell_type": "code",
   "execution_count": null,
   "metadata": {},
   "outputs": [],
   "source": []
  },
  {
   "cell_type": "code",
   "execution_count": 10,
   "metadata": {},
   "outputs": [
    {
     "name": "stdout",
     "output_type": "stream",
     "text": [
      "+--------------------+--------------------+-------+--------+--------+--------+\n",
      "|              origen|             destino|   tipo|segundos|llamadas|mensajes|\n",
      "+--------------------+--------------------+-------+--------+--------+--------+\n",
      "|dad878015fcbecfda...|261d09ee269bd79c0...| MOBILE|    23.0|     2.0|     0.0|\n",
      "|3b3af9f22ec61f89c...|f228da1389ba37cc1...| MOBILE|    57.0|     1.0|     0.0|\n",
      "|840addc6fb560bd0a...|54417a8d60abcafb8...| MOBILE|    52.0|     1.0|     0.0|\n",
      "|696e2cd1f2874f0ec...|02782fd0428887eda...| MOBILE|    35.0|     2.0|     0.0|\n",
      "|e5f9dfeb9b97f392e...|7ed5dc16f1b74c11d...| MOBILE|   379.0|     1.0|     0.0|\n",
      "|ecaf1439ea61a47c6...|65f09eaaafd0b7275...| MOBILE|   228.0|     2.0|     0.0|\n",
      "|cbb5f445dff5ec7ca...|84a64468e4b26872b...| MOBILE|    42.0|     2.0|     0.0|\n",
      "|5b61a1d5d08bfbccf...|a1ced1b13747c0cc9...| MOBILE|    43.0|     2.0|     0.0|\n",
      "|178f76bc7bc5ad28e...|484342a23fc025e82...| MOBILE|   141.0|     2.0|     0.0|\n",
      "|243a442812e365849...|12b104daa5924ec49...| MOBILE|   330.0|     5.0|     0.0|\n",
      "|a444259d4f44a4380...|0cb25ec2287f7b52c...| MOBILE|   318.0|     1.0|     0.0|\n",
      "|3be92cde18813f60a...|3e6d13e832f9a7974...| MOBILE|    53.0|     2.0|     0.0|\n",
      "|c7b6021317941e440...|                 333|SERVICE|    30.0|     2.0|     0.0|\n",
      "|e9427168e19769945...|b22d15878305c0560...| MOBILE|   456.0|     6.0|     0.0|\n",
      "|2c50984554fb11f58...|                 555|SERVICE|    81.0|     2.0|     0.0|\n",
      "|c94eb287af0a8d411...|369404d56b3f57679...| MOBILE|    14.0|     1.0|     0.0|\n",
      "|d9772eb861bfec198...|                 555|SERVICE|   168.0|     3.0|     0.0|\n",
      "|031b982d9266ff09a...|aef875006ef1e134d...| MOBILE|   130.0|     2.0|     0.0|\n",
      "|87c034ccdb5d29f83...|26b7922d1373720a4...| MOBILE|   646.0|     3.0|     0.0|\n",
      "|f0a5504dcb79c1f23...|23521dc0d773c95dc...| MOBILE|    11.0|     1.0|     0.0|\n",
      "+--------------------+--------------------+-------+--------+--------+--------+\n",
      "only showing top 20 rows\n",
      "\n"
     ]
    }
   ],
   "source": [
    "moDf.show()"
   ]
  },
  {
   "cell_type": "code",
   "execution_count": 11,
   "metadata": {},
   "outputs": [],
   "source": [
    "#moDf.filter(moDf.tipo!=\"MOBILE\").count()   # 994,258"
   ]
  },
  {
   "cell_type": "code",
   "execution_count": 12,
   "metadata": {},
   "outputs": [],
   "source": [
    "#moDf.filter(moDf.tipo==\"MOBILE\").count()   # 7,151,552"
   ]
  },
  {
   "cell_type": "code",
   "execution_count": 13,
   "metadata": {},
   "outputs": [],
   "source": [
    "from pyspark.sql import functions as F"
   ]
  },
  {
   "cell_type": "code",
   "execution_count": 14,
   "metadata": {},
   "outputs": [],
   "source": [
    "#moDf.groupBy(\"origen\").agg(F.sum(\"segundos\").alias(\"sum_segundos\"), \\\n",
    " #                          F.countDistinct(\"destino\").alias(\"destinos\"), \\\n",
    "  #                         F.sum(\"llamadas\").alias(\"sum_llamadas\"), \\\n",
    "   #                        F.sum(\"mensajes\").alias(\"sum_sms\")).show()"
   ]
  },
  {
   "cell_type": "code",
   "execution_count": 15,
   "metadata": {},
   "outputs": [
    {
     "name": "stdout",
     "output_type": "stream",
     "text": [
      "+-------------+--------+-------------+\n",
      "|         tipo|count(1)|count(origen)|\n",
      "+-------------+--------+-------------+\n",
      "|     LANDLINE|  189466|       162658|\n",
      "|       OTHERS|    2720|         2466|\n",
      "|      SERVICE|  714568|       632290|\n",
      "|       MOBILE| 7151552|      1986899|\n",
      "|INTERNATIONAL|   87504|        64002|\n",
      "+-------------+--------+-------------+\n",
      "\n"
     ]
    }
   ],
   "source": [
    "moDf.groupBy(\"tipo\").agg(F.count(\"*\"),F.countDistinct(moDf.origen)).show()"
   ]
  },
  {
   "cell_type": "code",
   "execution_count": 16,
   "metadata": {},
   "outputs": [],
   "source": [
    "#moDf.groupBy(\"origen\",\"tipo\").agg(F.when(F.col(\"tipo\")==\"MOBILE\",F.sum(\"segundos\")).otherwise(0).alias(\"sum_segundos\")\\\n",
    "#                          ).show()"
   ]
  },
  {
   "cell_type": "code",
   "execution_count": 17,
   "metadata": {},
   "outputs": [],
   "source": [
    "moDfInter01=moDf\\\n",
    "    .withColumn(\"segMobile\", F.when(moDf.tipo == \"MOBILE\", moDf.segundos).otherwise(0))\\\n",
    "    .withColumn(\"segService\", F.when(moDf.tipo == \"SERVICE\", moDf.segundos).otherwise(0))\\\n",
    "    .withColumn(\"segInternational\", F.when(moDf.tipo == \"INTERNATIONAL\", moDf.segundos).otherwise(0))\\\n",
    "    .withColumn(\"segOthers\", F.when(~((moDf.tipo==\"INTERNATIONAL\")|\\\n",
    "                                            (moDf.tipo==\"SERVICE\")|\\\n",
    "                                            (moDf.tipo==\"MOBILE\")), moDf.segundos).otherwise(0))\\\n",
    "    .withColumn(\"llaMobile\", F.when(moDf.tipo == \"MOBILE\", moDf.llamadas).otherwise(0))\\\n",
    "    .withColumn(\"llaService\", F.when(moDf.tipo == \"SERVICE\", moDf.llamadas).otherwise(0))\\\n",
    "    .withColumn(\"llaInternational\", F.when(moDf.tipo == \"INTERNATIONAL\", moDf.llamadas).otherwise(0))\\\n",
    "    .withColumn(\"llaOthers\", F.when(~((moDf.tipo==\"INTERNATIONAL\")|\\\n",
    "                                            (moDf.tipo==\"SERVICE\")|\\\n",
    "                                            (moDf.tipo==\"MOBILE\")), moDf.llamadas).otherwise(0))\\\n",
    "    .withColumn(\"desMobile\", F.when(moDf.tipo == \"MOBILE\", moDf.destino))\\\n",
    "    .withColumn(\"desService\", F.when(moDf.tipo == \"SERVICE\", moDf.destino))\\\n",
    "    .withColumn(\"desInternational\", F.when(moDf.tipo == \"INTERNATIONAL\", moDf.destino))\\\n",
    "    .withColumn(\"desOthers\", F.when(~((moDf.tipo==\"INTERNATIONAL\")|\\\n",
    "                                            (moDf.tipo==\"SERVICE\")|\\\n",
    "                                            (moDf.tipo==\"MOBILE\")), moDf.destino))"
   ]
  },
  {
   "cell_type": "code",
   "execution_count": 18,
   "metadata": {},
   "outputs": [
    {
     "data": {
      "text/plain": [
       "8145810"
      ]
     },
     "execution_count": 18,
     "metadata": {},
     "output_type": "execute_result"
    }
   ],
   "source": [
    "moDfInter01.count()"
   ]
  },
  {
   "cell_type": "code",
   "execution_count": 19,
   "metadata": {},
   "outputs": [],
   "source": [
    "moDfInter01 = moDfInter01.groupBy(\"origen\")\\\n",
    "            .agg(\\\n",
    "                 ### Agregando en Segundos\n",
    "                 F.sum(\"segundos\").alias(\"sumSeg\")\\\n",
    "                ,F.sum(\"segMobile\").alias(\"sumSegMobile\")\\\n",
    "                ,F.sum(\"segService\").alias(\"sumSegService\")\\\n",
    "                ,F.sum(\"segInternational\").alias(\"sumSegInternational\")\\\n",
    "                ,F.sum(\"segOthers\").alias(\"sumSegOthers\")\\\n",
    "                 ### Agregando en llamadas\n",
    "                ,F.sum(\"llamadas\").alias(\"sumLla\")\\\n",
    "                ,F.sum(\"llaMobile\").alias(\"sumLlaMobile\")\\\n",
    "                ,F.sum(\"llaService\").alias(\"sumLlaService\")\\\n",
    "                ,F.sum(\"llaInternational\").alias(\"sumLlaInternational\")\\\n",
    "                ,F.sum(\"llaOthers\").alias(\"sumLlaOthers\")\\\n",
    "                 ### Agregando destinos distintos\n",
    "                ,F.countDistinct(\"destino\").alias(\"nroDest\")\\\n",
    "                ,F.countDistinct(\"desMobile\").alias(\"nroDestMobile\")\\\n",
    "                ,F.countDistinct(\"desService\").alias(\"nroDestService\")\\\n",
    "                ,F.countDistinct(\"desInternational\").alias(\"nroDestInternational\")\\\n",
    "                ,F.countDistinct(\"desOthers\").alias(\"nroDestOthers\")\\\n",
    "                )"
   ]
  },
  {
   "cell_type": "code",
   "execution_count": 20,
   "metadata": {},
   "outputs": [
    {
     "data": {
      "text/plain": [
       "2210592"
      ]
     },
     "execution_count": 20,
     "metadata": {},
     "output_type": "execute_result"
    }
   ],
   "source": [
    "moDfInter01.count()"
   ]
  },
  {
   "cell_type": "code",
   "execution_count": 21,
   "metadata": {},
   "outputs": [
    {
     "data": {
      "text/html": [
       "<div>\n",
       "<style scoped>\n",
       "    .dataframe tbody tr th:only-of-type {\n",
       "        vertical-align: middle;\n",
       "    }\n",
       "\n",
       "    .dataframe tbody tr th {\n",
       "        vertical-align: top;\n",
       "    }\n",
       "\n",
       "    .dataframe thead th {\n",
       "        text-align: right;\n",
       "    }\n",
       "</style>\n",
       "<table border=\"1\" class=\"dataframe\">\n",
       "  <thead>\n",
       "    <tr style=\"text-align: right;\">\n",
       "      <th></th>\n",
       "      <th>origen</th>\n",
       "      <th>sumSeg</th>\n",
       "      <th>sumSegMobile</th>\n",
       "      <th>sumSegService</th>\n",
       "      <th>sumSegInternational</th>\n",
       "      <th>sumSegOthers</th>\n",
       "      <th>sumLla</th>\n",
       "      <th>sumLlaMobile</th>\n",
       "      <th>sumLlaService</th>\n",
       "      <th>sumLlaInternational</th>\n",
       "      <th>sumLlaOthers</th>\n",
       "      <th>nroDest</th>\n",
       "      <th>nroDestMobile</th>\n",
       "      <th>nroDestService</th>\n",
       "      <th>nroDestInternational</th>\n",
       "      <th>nroDestOthers</th>\n",
       "    </tr>\n",
       "  </thead>\n",
       "  <tbody>\n",
       "    <tr>\n",
       "      <th>0</th>\n",
       "      <td>3aba283ea13cf7d2380cce878687bd092aafed8f89edee...</td>\n",
       "      <td>150.0</td>\n",
       "      <td>150.0</td>\n",
       "      <td>0.0</td>\n",
       "      <td>0.0</td>\n",
       "      <td>0.0</td>\n",
       "      <td>1.0</td>\n",
       "      <td>1.0</td>\n",
       "      <td>0.0</td>\n",
       "      <td>0.0</td>\n",
       "      <td>0.0</td>\n",
       "      <td>1</td>\n",
       "      <td>1</td>\n",
       "      <td>0</td>\n",
       "      <td>0</td>\n",
       "      <td>0</td>\n",
       "    </tr>\n",
       "    <tr>\n",
       "      <th>1</th>\n",
       "      <td>b21833971e53bee50dab425fbab163628ec1831a004b76...</td>\n",
       "      <td>1257.0</td>\n",
       "      <td>1257.0</td>\n",
       "      <td>0.0</td>\n",
       "      <td>0.0</td>\n",
       "      <td>0.0</td>\n",
       "      <td>27.0</td>\n",
       "      <td>27.0</td>\n",
       "      <td>0.0</td>\n",
       "      <td>0.0</td>\n",
       "      <td>0.0</td>\n",
       "      <td>9</td>\n",
       "      <td>9</td>\n",
       "      <td>0</td>\n",
       "      <td>0</td>\n",
       "      <td>0</td>\n",
       "    </tr>\n",
       "    <tr>\n",
       "      <th>2</th>\n",
       "      <td>29e3d2f9452df3765cdc54c2b06b91ee1dc5e9057b0333...</td>\n",
       "      <td>1810.0</td>\n",
       "      <td>1707.0</td>\n",
       "      <td>103.0</td>\n",
       "      <td>0.0</td>\n",
       "      <td>0.0</td>\n",
       "      <td>14.0</td>\n",
       "      <td>12.0</td>\n",
       "      <td>2.0</td>\n",
       "      <td>0.0</td>\n",
       "      <td>0.0</td>\n",
       "      <td>10</td>\n",
       "      <td>9</td>\n",
       "      <td>1</td>\n",
       "      <td>0</td>\n",
       "      <td>0</td>\n",
       "    </tr>\n",
       "    <tr>\n",
       "      <th>3</th>\n",
       "      <td>4987165ca4239c6d955e9d1e1eca74ec3215ff4b1ab9d2...</td>\n",
       "      <td>33.0</td>\n",
       "      <td>33.0</td>\n",
       "      <td>0.0</td>\n",
       "      <td>0.0</td>\n",
       "      <td>0.0</td>\n",
       "      <td>1.0</td>\n",
       "      <td>1.0</td>\n",
       "      <td>0.0</td>\n",
       "      <td>0.0</td>\n",
       "      <td>0.0</td>\n",
       "      <td>1</td>\n",
       "      <td>1</td>\n",
       "      <td>0</td>\n",
       "      <td>0</td>\n",
       "      <td>0</td>\n",
       "    </tr>\n",
       "    <tr>\n",
       "      <th>4</th>\n",
       "      <td>f9ba9adce15a3b2246cb6ef23ac9902591ae03dd8bf84d...</td>\n",
       "      <td>8122.0</td>\n",
       "      <td>8122.0</td>\n",
       "      <td>0.0</td>\n",
       "      <td>0.0</td>\n",
       "      <td>0.0</td>\n",
       "      <td>16.0</td>\n",
       "      <td>16.0</td>\n",
       "      <td>0.0</td>\n",
       "      <td>0.0</td>\n",
       "      <td>0.0</td>\n",
       "      <td>6</td>\n",
       "      <td>6</td>\n",
       "      <td>0</td>\n",
       "      <td>0</td>\n",
       "      <td>0</td>\n",
       "    </tr>\n",
       "  </tbody>\n",
       "</table>\n",
       "</div>"
      ],
      "text/plain": [
       "                                              origen  sumSeg  sumSegMobile  \\\n",
       "0  3aba283ea13cf7d2380cce878687bd092aafed8f89edee...   150.0         150.0   \n",
       "1  b21833971e53bee50dab425fbab163628ec1831a004b76...  1257.0        1257.0   \n",
       "2  29e3d2f9452df3765cdc54c2b06b91ee1dc5e9057b0333...  1810.0        1707.0   \n",
       "3  4987165ca4239c6d955e9d1e1eca74ec3215ff4b1ab9d2...    33.0          33.0   \n",
       "4  f9ba9adce15a3b2246cb6ef23ac9902591ae03dd8bf84d...  8122.0        8122.0   \n",
       "\n",
       "   sumSegService  sumSegInternational  sumSegOthers  sumLla  sumLlaMobile  \\\n",
       "0            0.0                  0.0           0.0     1.0           1.0   \n",
       "1            0.0                  0.0           0.0    27.0          27.0   \n",
       "2          103.0                  0.0           0.0    14.0          12.0   \n",
       "3            0.0                  0.0           0.0     1.0           1.0   \n",
       "4            0.0                  0.0           0.0    16.0          16.0   \n",
       "\n",
       "   sumLlaService  sumLlaInternational  sumLlaOthers  nroDest  nroDestMobile  \\\n",
       "0            0.0                  0.0           0.0        1              1   \n",
       "1            0.0                  0.0           0.0        9              9   \n",
       "2            2.0                  0.0           0.0       10              9   \n",
       "3            0.0                  0.0           0.0        1              1   \n",
       "4            0.0                  0.0           0.0        6              6   \n",
       "\n",
       "   nroDestService  nroDestInternational  nroDestOthers  \n",
       "0               0                     0              0  \n",
       "1               0                     0              0  \n",
       "2               1                     0              0  \n",
       "3               0                     0              0  \n",
       "4               0                     0              0  "
      ]
     },
     "execution_count": 21,
     "metadata": {},
     "output_type": "execute_result"
    }
   ],
   "source": [
    "moDfInter01.limit(10).toPandas().head()"
   ]
  },
  {
   "cell_type": "code",
   "execution_count": 22,
   "metadata": {},
   "outputs": [
    {
     "name": "stdout",
     "output_type": "stream",
     "text": [
      "+--------------------+--------------------+-------------+--------+--------+--------+\n",
      "|              origen|             destino|         tipo|segundos|llamadas|mensajes|\n",
      "+--------------------+--------------------+-------------+--------+--------+--------+\n",
      "|5f96f009c80846649...|c4b73c9223bac76b8...|       OTHERS|   133.0|     1.0|     0.0|\n",
      "|5f96f009c80846649...|f110df29d30cb3b7f...|INTERNATIONAL|   429.0|     1.0|     0.0|\n",
      "|5f96f009c80846649...|919d4f8ff96c308ea...|       MOBILE|    22.0|     1.0|     0.0|\n",
      "|5f96f009c80846649...|9795116863458d126...|       MOBILE|    19.0|     1.0|     0.0|\n",
      "|5f96f009c80846649...|abe25dcd1d6e8b186...|     LANDLINE|   262.0|     1.0|     0.0|\n",
      "+--------------------+--------------------+-------------+--------+--------+--------+\n",
      "\n"
     ]
    }
   ],
   "source": [
    "moDf.filter(moDf.origen==\"5f96f009c808466497ce0a5e19126cd9144be71c3245766948a57a2e\").show()"
   ]
  },
  {
   "cell_type": "code",
   "execution_count": 23,
   "metadata": {},
   "outputs": [],
   "source": [
    "### Agregando Proporciones\n",
    "### Agregando proporciones en segundos con un artificio para evitar la división por 0\n",
    "### Agregando proporciones en llamadas con un artificio para evitar la división por 0\n",
    "### Agregando proporciones en nro de destinos con un artificio para evitar la división por 0\n",
    "moDfInter01 = moDfInter01\\\n",
    "    .withColumn(\"PropSegMobile\", F.round((moDfInter01.sumSegMobile+0.5)/(moDfInter01.sumSeg+1),5))\\\n",
    "    .withColumn(\"PropSegService\", F.round((moDfInter01.sumSegService+0.5)/(moDfInter01.sumSeg+1),5))\\\n",
    "    .withColumn(\"PropSegInternational\", F.round((moDfInter01.sumSegInternational+0.5)/(moDfInter01.sumSeg+1),5))\\\n",
    "    .withColumn(\"PropLlaMobile\", F.round((moDfInter01.sumLlaMobile+0.5)/(moDfInter01.sumLla+1),5))\\\n",
    "    .withColumn(\"PropLlaService\", F.round((moDfInter01.sumLlaService+0.5)/(moDfInter01.sumLla+1),5))\\\n",
    "    .withColumn(\"PropLlaInternational\", F.round((moDfInter01.sumLlaInternational+0.5)/(moDfInter01.sumLla+1),5))\\\n",
    "    .withColumn(\"PropNroDestMobile\", F.round((moDfInter01.nroDestMobile+0.5)/(moDfInter01.nroDest+1),5))\\\n",
    "    .withColumn(\"PropNroDestService\", F.round((moDfInter01.nroDestService+0.5)/(moDfInter01.nroDest+1),5))\\\n",
    "    .withColumn(\"PropNroDestInternational\", F.round((moDfInter01.nroDestInternational+0.5)/(moDfInter01.nroDest+1),5))"
   ]
  },
  {
   "cell_type": "code",
   "execution_count": 24,
   "metadata": {},
   "outputs": [
    {
     "data": {
      "text/html": [
       "<div>\n",
       "<style scoped>\n",
       "    .dataframe tbody tr th:only-of-type {\n",
       "        vertical-align: middle;\n",
       "    }\n",
       "\n",
       "    .dataframe tbody tr th {\n",
       "        vertical-align: top;\n",
       "    }\n",
       "\n",
       "    .dataframe thead th {\n",
       "        text-align: right;\n",
       "    }\n",
       "</style>\n",
       "<table border=\"1\" class=\"dataframe\">\n",
       "  <thead>\n",
       "    <tr style=\"text-align: right;\">\n",
       "      <th></th>\n",
       "      <th>origen</th>\n",
       "      <th>sumSeg</th>\n",
       "      <th>sumSegMobile</th>\n",
       "      <th>sumSegService</th>\n",
       "      <th>sumSegInternational</th>\n",
       "      <th>sumSegOthers</th>\n",
       "      <th>sumLla</th>\n",
       "      <th>sumLlaMobile</th>\n",
       "      <th>sumLlaService</th>\n",
       "      <th>sumLlaInternational</th>\n",
       "      <th>...</th>\n",
       "      <th>nroDestOthers</th>\n",
       "      <th>PropSegMobile</th>\n",
       "      <th>PropSegService</th>\n",
       "      <th>PropSegInternational</th>\n",
       "      <th>PropLlaMobile</th>\n",
       "      <th>PropLlaService</th>\n",
       "      <th>PropLlaInternational</th>\n",
       "      <th>PropNroDestMobile</th>\n",
       "      <th>PropNroDestService</th>\n",
       "      <th>PropNroDestInternational</th>\n",
       "    </tr>\n",
       "  </thead>\n",
       "  <tbody>\n",
       "    <tr>\n",
       "      <th>0</th>\n",
       "      <td>3aba283ea13cf7d2380cce878687bd092aafed8f89edee...</td>\n",
       "      <td>150.0</td>\n",
       "      <td>150.0</td>\n",
       "      <td>0.0</td>\n",
       "      <td>0.0</td>\n",
       "      <td>0.0</td>\n",
       "      <td>1.0</td>\n",
       "      <td>1.0</td>\n",
       "      <td>0.0</td>\n",
       "      <td>0.0</td>\n",
       "      <td>...</td>\n",
       "      <td>0</td>\n",
       "      <td>0.99669</td>\n",
       "      <td>0.00331</td>\n",
       "      <td>0.00331</td>\n",
       "      <td>0.75000</td>\n",
       "      <td>0.25000</td>\n",
       "      <td>0.25000</td>\n",
       "      <td>0.75000</td>\n",
       "      <td>0.25000</td>\n",
       "      <td>0.25000</td>\n",
       "    </tr>\n",
       "    <tr>\n",
       "      <th>1</th>\n",
       "      <td>b21833971e53bee50dab425fbab163628ec1831a004b76...</td>\n",
       "      <td>1257.0</td>\n",
       "      <td>1257.0</td>\n",
       "      <td>0.0</td>\n",
       "      <td>0.0</td>\n",
       "      <td>0.0</td>\n",
       "      <td>27.0</td>\n",
       "      <td>27.0</td>\n",
       "      <td>0.0</td>\n",
       "      <td>0.0</td>\n",
       "      <td>...</td>\n",
       "      <td>0</td>\n",
       "      <td>0.99960</td>\n",
       "      <td>0.00040</td>\n",
       "      <td>0.00040</td>\n",
       "      <td>0.98214</td>\n",
       "      <td>0.01786</td>\n",
       "      <td>0.01786</td>\n",
       "      <td>0.95000</td>\n",
       "      <td>0.05000</td>\n",
       "      <td>0.05000</td>\n",
       "    </tr>\n",
       "    <tr>\n",
       "      <th>2</th>\n",
       "      <td>29e3d2f9452df3765cdc54c2b06b91ee1dc5e9057b0333...</td>\n",
       "      <td>1810.0</td>\n",
       "      <td>1707.0</td>\n",
       "      <td>103.0</td>\n",
       "      <td>0.0</td>\n",
       "      <td>0.0</td>\n",
       "      <td>14.0</td>\n",
       "      <td>12.0</td>\n",
       "      <td>2.0</td>\n",
       "      <td>0.0</td>\n",
       "      <td>...</td>\n",
       "      <td>0</td>\n",
       "      <td>0.94285</td>\n",
       "      <td>0.05715</td>\n",
       "      <td>0.00028</td>\n",
       "      <td>0.83333</td>\n",
       "      <td>0.16667</td>\n",
       "      <td>0.03333</td>\n",
       "      <td>0.86364</td>\n",
       "      <td>0.13636</td>\n",
       "      <td>0.04545</td>\n",
       "    </tr>\n",
       "    <tr>\n",
       "      <th>3</th>\n",
       "      <td>4987165ca4239c6d955e9d1e1eca74ec3215ff4b1ab9d2...</td>\n",
       "      <td>33.0</td>\n",
       "      <td>33.0</td>\n",
       "      <td>0.0</td>\n",
       "      <td>0.0</td>\n",
       "      <td>0.0</td>\n",
       "      <td>1.0</td>\n",
       "      <td>1.0</td>\n",
       "      <td>0.0</td>\n",
       "      <td>0.0</td>\n",
       "      <td>...</td>\n",
       "      <td>0</td>\n",
       "      <td>0.98529</td>\n",
       "      <td>0.01471</td>\n",
       "      <td>0.01471</td>\n",
       "      <td>0.75000</td>\n",
       "      <td>0.25000</td>\n",
       "      <td>0.25000</td>\n",
       "      <td>0.75000</td>\n",
       "      <td>0.25000</td>\n",
       "      <td>0.25000</td>\n",
       "    </tr>\n",
       "    <tr>\n",
       "      <th>4</th>\n",
       "      <td>f9ba9adce15a3b2246cb6ef23ac9902591ae03dd8bf84d...</td>\n",
       "      <td>8122.0</td>\n",
       "      <td>8122.0</td>\n",
       "      <td>0.0</td>\n",
       "      <td>0.0</td>\n",
       "      <td>0.0</td>\n",
       "      <td>16.0</td>\n",
       "      <td>16.0</td>\n",
       "      <td>0.0</td>\n",
       "      <td>0.0</td>\n",
       "      <td>...</td>\n",
       "      <td>0</td>\n",
       "      <td>0.99994</td>\n",
       "      <td>0.00006</td>\n",
       "      <td>0.00006</td>\n",
       "      <td>0.97059</td>\n",
       "      <td>0.02941</td>\n",
       "      <td>0.02941</td>\n",
       "      <td>0.92857</td>\n",
       "      <td>0.07143</td>\n",
       "      <td>0.07143</td>\n",
       "    </tr>\n",
       "  </tbody>\n",
       "</table>\n",
       "<p>5 rows × 25 columns</p>\n",
       "</div>"
      ],
      "text/plain": [
       "                                              origen  sumSeg  sumSegMobile  \\\n",
       "0  3aba283ea13cf7d2380cce878687bd092aafed8f89edee...   150.0         150.0   \n",
       "1  b21833971e53bee50dab425fbab163628ec1831a004b76...  1257.0        1257.0   \n",
       "2  29e3d2f9452df3765cdc54c2b06b91ee1dc5e9057b0333...  1810.0        1707.0   \n",
       "3  4987165ca4239c6d955e9d1e1eca74ec3215ff4b1ab9d2...    33.0          33.0   \n",
       "4  f9ba9adce15a3b2246cb6ef23ac9902591ae03dd8bf84d...  8122.0        8122.0   \n",
       "\n",
       "   sumSegService  sumSegInternational  sumSegOthers  sumLla  sumLlaMobile  \\\n",
       "0            0.0                  0.0           0.0     1.0           1.0   \n",
       "1            0.0                  0.0           0.0    27.0          27.0   \n",
       "2          103.0                  0.0           0.0    14.0          12.0   \n",
       "3            0.0                  0.0           0.0     1.0           1.0   \n",
       "4            0.0                  0.0           0.0    16.0          16.0   \n",
       "\n",
       "   sumLlaService  sumLlaInternational  ...  nroDestOthers  PropSegMobile  \\\n",
       "0            0.0                  0.0  ...              0        0.99669   \n",
       "1            0.0                  0.0  ...              0        0.99960   \n",
       "2            2.0                  0.0  ...              0        0.94285   \n",
       "3            0.0                  0.0  ...              0        0.98529   \n",
       "4            0.0                  0.0  ...              0        0.99994   \n",
       "\n",
       "   PropSegService  PropSegInternational  PropLlaMobile  PropLlaService  \\\n",
       "0         0.00331               0.00331        0.75000         0.25000   \n",
       "1         0.00040               0.00040        0.98214         0.01786   \n",
       "2         0.05715               0.00028        0.83333         0.16667   \n",
       "3         0.01471               0.01471        0.75000         0.25000   \n",
       "4         0.00006               0.00006        0.97059         0.02941   \n",
       "\n",
       "   PropLlaInternational  PropNroDestMobile  PropNroDestService  \\\n",
       "0               0.25000            0.75000             0.25000   \n",
       "1               0.01786            0.95000             0.05000   \n",
       "2               0.03333            0.86364             0.13636   \n",
       "3               0.25000            0.75000             0.25000   \n",
       "4               0.02941            0.92857             0.07143   \n",
       "\n",
       "   PropNroDestInternational  \n",
       "0                   0.25000  \n",
       "1                   0.05000  \n",
       "2                   0.04545  \n",
       "3                   0.25000  \n",
       "4                   0.07143  \n",
       "\n",
       "[5 rows x 25 columns]"
      ]
     },
     "execution_count": 24,
     "metadata": {},
     "output_type": "execute_result"
    }
   ],
   "source": [
    "moDfInter01.limit(10).toPandas().head()"
   ]
  },
  {
   "cell_type": "code",
   "execution_count": 25,
   "metadata": {},
   "outputs": [
    {
     "data": {
      "text/plain": [
       "2210592"
      ]
     },
     "execution_count": 25,
     "metadata": {},
     "output_type": "execute_result"
    }
   ],
   "source": [
    "moDfInter01.count()"
   ]
  },
  {
   "cell_type": "code",
   "execution_count": 26,
   "metadata": {},
   "outputs": [],
   "source": [
    "moDfInter01.coalesce(5).write.format(\"parquet\").mode(\"overwrite\").save(\"../prepData/mo_variables_iniciales.parquet\")\n"
   ]
  },
  {
   "cell_type": "markdown",
   "metadata": {},
   "source": [
    "### Contactos distintos"
   ]
  },
  {
   "cell_type": "code",
   "execution_count": 27,
   "metadata": {},
   "outputs": [],
   "source": [
    "moDf.select(\"origen\",\"destino\").coalesce(5).write.format(\"parquet\").mode(\"overwrite\").save(\"../prepData/mo_destinos.parquet\")"
   ]
  }
 ],
 "metadata": {
  "kernelspec": {
   "display_name": "Python 3",
   "language": "python",
   "name": "python3"
  },
  "language_info": {
   "codemirror_mode": {
    "name": "ipython",
    "version": 3
   },
   "file_extension": ".py",
   "mimetype": "text/x-python",
   "name": "python",
   "nbconvert_exporter": "python",
   "pygments_lexer": "ipython3",
   "version": "3.8.3"
  }
 },
 "nbformat": 4,
 "nbformat_minor": 4
}
