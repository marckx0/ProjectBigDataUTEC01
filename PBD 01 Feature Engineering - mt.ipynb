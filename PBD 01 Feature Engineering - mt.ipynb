{
 "cells": [
  {
   "cell_type": "code",
   "execution_count": 1,
   "metadata": {},
   "outputs": [
    {
     "name": "stdout",
     "output_type": "stream",
     "text": [
      "/home/marco/anaconda3/bin/python\n",
      "3.8.3 (default, Jul  2 2020, 16:21:59) \n",
      "[GCC 7.3.0]\n",
      "sys.version_info(major=3, minor=8, micro=3, releaselevel='final', serial=0)\n"
     ]
    }
   ],
   "source": [
    "import sys\n",
    "print(sys.executable)\n",
    "print(sys.version)\n",
    "print(sys.version_info)"
   ]
  },
  {
   "cell_type": "code",
   "execution_count": 2,
   "metadata": {},
   "outputs": [],
   "source": [
    "sc.stop()"
   ]
  },
  {
   "cell_type": "code",
   "execution_count": 3,
   "metadata": {},
   "outputs": [],
   "source": [
    "#sc.stop()\n",
    "\n",
    "from pyspark.sql import SparkSession\n",
    "from pyspark import SparkContext\n",
    "\n",
    "spark = SparkSession\\\n",
    "    .builder\\\n",
    "    .master(\"local[4]\")\\\n",
    "    .appName(\"Feature Enginering mt\")\\\n",
    "    .getOrCreate()\n",
    "\n",
    "sc = spark.sparkContext"
   ]
  },
  {
   "cell_type": "code",
   "execution_count": 4,
   "metadata": {},
   "outputs": [
    {
     "data": {
      "text/plain": [
       "'16g'"
      ]
     },
     "execution_count": 4,
     "metadata": {},
     "output_type": "execute_result"
    }
   ],
   "source": [
    "sc._conf.get('spark.driver.memory')"
   ]
  },
  {
   "cell_type": "code",
   "execution_count": 5,
   "metadata": {},
   "outputs": [
    {
     "data": {
      "text/plain": [
       "[('spark.app.name', 'Feature Enginering mt'),\n",
       " ('spark.app.id', 'local-1638931493656'),\n",
       " ('spark.master', 'local[4]'),\n",
       " ('spark.local.dir', '/home/marco/claseBigData/ProyectoBD/tmp'),\n",
       " ('spark.app.startTime', '1638931493558'),\n",
       " ('spark.executor.id', 'driver'),\n",
       " ('spark.driver.memory', '16g'),\n",
       " ('spark.driver.host', '192.168.3.5'),\n",
       " ('spark.sql.catalogImplementation', 'hive'),\n",
       " ('spark.rdd.compress', 'True'),\n",
       " ('spark.serializer.objectStreamReset', '100'),\n",
       " ('spark.submit.pyFiles', ''),\n",
       " ('spark.submit.deployMode', 'client'),\n",
       " ('spark.driver.port', '38355'),\n",
       " ('spark.ui.showConsoleProgress', 'true')]"
      ]
     },
     "execution_count": 5,
     "metadata": {},
     "output_type": "execute_result"
    }
   ],
   "source": [
    "sc._conf.getAll()"
   ]
  },
  {
   "cell_type": "code",
   "execution_count": 6,
   "metadata": {},
   "outputs": [
    {
     "data": {
      "text/plain": [
       "'3.0.3'"
      ]
     },
     "execution_count": 6,
     "metadata": {},
     "output_type": "execute_result"
    }
   ],
   "source": [
    "sc.version"
   ]
  },
  {
   "cell_type": "code",
   "execution_count": 7,
   "metadata": {},
   "outputs": [
    {
     "name": "stdout",
     "output_type": "stream",
     "text": [
      "/home/marco/anaconda3/bin/python\n",
      "3.8.3 (default, Jul  2 2020, 16:21:59) \n",
      "[GCC 7.3.0]\n",
      "sys.version_info(major=3, minor=8, micro=3, releaselevel='final', serial=0)\n"
     ]
    }
   ],
   "source": [
    "print(sys.executable)\n",
    "print(sys.version)\n",
    "print(sys.version_info)"
   ]
  },
  {
   "cell_type": "markdown",
   "metadata": {},
   "source": [
    "![imagenes/](img/DataPreparation.png)"
   ]
  },
  {
   "cell_type": "markdown",
   "metadata": {},
   "source": [
    "#### Carga de fuentes de información"
   ]
  },
  {
   "cell_type": "markdown",
   "metadata": {},
   "source": [
    "Cabeceras:\n",
    "    - origen: numero de origen,\n",
    "    - destino: numero de destino,\n",
    "    - tipo: tipo de llamada,\n",
    "    - segundos: duración de llamada (seg),\n",
    "    - llamadas: numero de llmadas, \n",
    "    - mensajes: numero de sms"
   ]
  },
  {
   "cell_type": "code",
   "execution_count": 8,
   "metadata": {},
   "outputs": [],
   "source": [
    "from pyspark.sql.types import StructField, StructType, StringType,DoubleType\n",
    "custom_schema = StructType([\n",
    "    StructField(\"origen\", StringType(), True),\n",
    "    StructField(\"destino\", StringType(), True),\n",
    "    StructField(\"tipo\", StringType(), True),\n",
    "    StructField(\"segundos\", DoubleType(), True),\n",
    "    StructField(\"llamadas\", DoubleType(), True),\n",
    "    StructField(\"mensajes\", DoubleType(), True)\n",
    "])"
   ]
  },
  {
   "cell_type": "code",
   "execution_count": 9,
   "metadata": {},
   "outputs": [],
   "source": [
    "mtDf = spark.read.format(\"csv\")\\\n",
    "        .schema(custom_schema)\\\n",
    "        .option(\"header\",\"false\")\\\n",
    "        .load(\"../rawData/mt/week2/20150310.csv.sanitaized\")"
   ]
  },
  {
   "cell_type": "code",
   "execution_count": 10,
   "metadata": {},
   "outputs": [
    {
     "name": "stdout",
     "output_type": "stream",
     "text": [
      "+--------------------+--------------------+-------+--------+--------+--------+\n",
      "|              origen|             destino|   tipo|segundos|llamadas|mensajes|\n",
      "+--------------------+--------------------+-------+--------+--------+--------+\n",
      "|0917f9c3329fcdbee...|                 555|SERVICE|     0.0|     0.0|     1.0|\n",
      "|557cc43b17fcee524...|c693af5d121c68d63...| MOBILE|    47.0|     1.0|     1.0|\n",
      "|332e59a9c83d6b690...|dec6d3468db94542f...| MOBILE|     0.0|     0.0|     1.0|\n",
      "|b542cacb488db4d18...|ea95e0ca4d591b2d4...| MOBILE|     0.0|     0.0|     1.0|\n",
      "|87c596657693f26f5...|6da01f1adeb493ffb...| MOBILE|    23.0|     1.0|     0.0|\n",
      "|a3549a1533368dcfb...|8c904e4628bf3e78b...| MOBILE|    60.0|     2.0|     0.0|\n",
      "|44c49f8c6cfaa0d94...|                 555|SERVICE|     0.0|     0.0|     1.0|\n",
      "|03efe1e8f5c45e5de...|748dad3c8816b5051...| MOBILE|   180.0|     1.0|     0.0|\n",
      "|696e2cd1f2874f0ec...|02782fd0428887eda...| MOBILE|    71.0|     4.0|     0.0|\n",
      "|01945c61aa576fc3d...|d8b0e1c822bc65036...| MOBILE|     0.0|     0.0|     2.0|\n",
      "|3f5be937f0bd79362...|13185cb446392a881...| MOBILE|     0.0|     0.0|     1.0|\n",
      "|081c496f4270f9cf1...|dad33d4497209fb1f...| MOBILE|     0.0|     0.0|     2.0|\n",
      "|0aaa049acc274adf3...|                 121|SERVICE|     0.0|     0.0|     1.0|\n",
      "|0fab3cb17058a6865...|b8d95ed7d64a438ed...| MOBILE|    68.0|     1.0|     1.0|\n",
      "|7c78202823a53d4ff...|ff43f83bb461ed6b4...| MOBILE|    75.0|     2.0|     0.0|\n",
      "|7092fe87a8939c8ce...|                 606|SERVICE|     0.0|     0.0|     1.0|\n",
      "|3be92cde18813f60a...|3e6d13e832f9a7974...| MOBILE|    10.0|     1.0|     1.0|\n",
      "|17ae7940e7a68caa3...|6fbd5cbbd2ab8e528...| MOBILE|     0.0|     0.0|     1.0|\n",
      "|2c50984554fb11f58...|                 555|SERVICE|     0.0|     0.0|     1.0|\n",
      "|ad325674564f85f35...|26c9949ee91935078...| MOBILE|     0.0|     0.0|     1.0|\n",
      "+--------------------+--------------------+-------+--------+--------+--------+\n",
      "only showing top 20 rows\n",
      "\n"
     ]
    }
   ],
   "source": [
    "mtDf.show(truncate=True)"
   ]
  },
  {
   "cell_type": "markdown",
   "metadata": {},
   "source": [
    "moDf = spark.read.format(\"csv\")\\\n",
    "        .schema(custom_schema)\\\n",
    "        .option(\"header\",\"false\")\\\n",
    "        .load(\"../rawData/mo/week2/20150310.csv\")"
   ]
  },
  {
   "cell_type": "code",
   "execution_count": null,
   "metadata": {},
   "outputs": [],
   "source": []
  },
  {
   "cell_type": "code",
   "execution_count": 11,
   "metadata": {},
   "outputs": [
    {
     "name": "stdout",
     "output_type": "stream",
     "text": [
      "+--------------------+--------------------+-------+--------+--------+--------+\n",
      "|              origen|             destino|   tipo|segundos|llamadas|mensajes|\n",
      "+--------------------+--------------------+-------+--------+--------+--------+\n",
      "|0917f9c3329fcdbee...|                 555|SERVICE|     0.0|     0.0|     1.0|\n",
      "|557cc43b17fcee524...|c693af5d121c68d63...| MOBILE|    47.0|     1.0|     1.0|\n",
      "|332e59a9c83d6b690...|dec6d3468db94542f...| MOBILE|     0.0|     0.0|     1.0|\n",
      "|b542cacb488db4d18...|ea95e0ca4d591b2d4...| MOBILE|     0.0|     0.0|     1.0|\n",
      "|87c596657693f26f5...|6da01f1adeb493ffb...| MOBILE|    23.0|     1.0|     0.0|\n",
      "|a3549a1533368dcfb...|8c904e4628bf3e78b...| MOBILE|    60.0|     2.0|     0.0|\n",
      "|44c49f8c6cfaa0d94...|                 555|SERVICE|     0.0|     0.0|     1.0|\n",
      "|03efe1e8f5c45e5de...|748dad3c8816b5051...| MOBILE|   180.0|     1.0|     0.0|\n",
      "|696e2cd1f2874f0ec...|02782fd0428887eda...| MOBILE|    71.0|     4.0|     0.0|\n",
      "|01945c61aa576fc3d...|d8b0e1c822bc65036...| MOBILE|     0.0|     0.0|     2.0|\n",
      "|3f5be937f0bd79362...|13185cb446392a881...| MOBILE|     0.0|     0.0|     1.0|\n",
      "|081c496f4270f9cf1...|dad33d4497209fb1f...| MOBILE|     0.0|     0.0|     2.0|\n",
      "|0aaa049acc274adf3...|                 121|SERVICE|     0.0|     0.0|     1.0|\n",
      "|0fab3cb17058a6865...|b8d95ed7d64a438ed...| MOBILE|    68.0|     1.0|     1.0|\n",
      "|7c78202823a53d4ff...|ff43f83bb461ed6b4...| MOBILE|    75.0|     2.0|     0.0|\n",
      "|7092fe87a8939c8ce...|                 606|SERVICE|     0.0|     0.0|     1.0|\n",
      "|3be92cde18813f60a...|3e6d13e832f9a7974...| MOBILE|    10.0|     1.0|     1.0|\n",
      "|17ae7940e7a68caa3...|6fbd5cbbd2ab8e528...| MOBILE|     0.0|     0.0|     1.0|\n",
      "|2c50984554fb11f58...|                 555|SERVICE|     0.0|     0.0|     1.0|\n",
      "|ad325674564f85f35...|26c9949ee91935078...| MOBILE|     0.0|     0.0|     1.0|\n",
      "+--------------------+--------------------+-------+--------+--------+--------+\n",
      "only showing top 20 rows\n",
      "\n"
     ]
    }
   ],
   "source": [
    "mtDf.show()"
   ]
  },
  {
   "cell_type": "code",
   "execution_count": 12,
   "metadata": {},
   "outputs": [],
   "source": [
    "#moDf.filter(moDf.tipo!=\"MOBILE\").count()   # 994,258"
   ]
  },
  {
   "cell_type": "code",
   "execution_count": 13,
   "metadata": {},
   "outputs": [],
   "source": [
    "#moDf.filter(moDf.tipo==\"MOBILE\").count()   # 7,151,552"
   ]
  },
  {
   "cell_type": "code",
   "execution_count": 14,
   "metadata": {},
   "outputs": [],
   "source": [
    "from pyspark.sql import functions as F"
   ]
  },
  {
   "cell_type": "code",
   "execution_count": 15,
   "metadata": {},
   "outputs": [],
   "source": [
    "#moDf.groupBy(\"origen\").agg(F.sum(\"segundos\").alias(\"sum_segundos\"), \\\n",
    " #                          F.countDistinct(\"destino\").alias(\"destinos\"), \\\n",
    "  #                         F.sum(\"llamadas\").alias(\"sum_llamadas\"), \\\n",
    "   #                        F.sum(\"mensajes\").alias(\"sum_sms\")).show()"
   ]
  },
  {
   "cell_type": "code",
   "execution_count": 16,
   "metadata": {},
   "outputs": [
    {
     "name": "stdout",
     "output_type": "stream",
     "text": [
      "+-------------+--------+-------------+\n",
      "|         tipo|count(1)|count(origen)|\n",
      "+-------------+--------+-------------+\n",
      "|     LANDLINE|  275689|       238683|\n",
      "|       OTHERS|     774|          754|\n",
      "|      SERVICE| 2292564|      1846418|\n",
      "|       MOBILE|10405254|      3164210|\n",
      "|INTERNATIONAL|  115482|        98387|\n",
      "+-------------+--------+-------------+\n",
      "\n"
     ]
    }
   ],
   "source": [
    "mtDf.groupBy(\"tipo\").agg(F.count(\"*\"),F.countDistinct(mtDf.origen)).show()"
   ]
  },
  {
   "cell_type": "code",
   "execution_count": 17,
   "metadata": {},
   "outputs": [],
   "source": [
    "#moDf.groupBy(\"origen\",\"tipo\").agg(F.when(F.col(\"tipo\")==\"MOBILE\",F.sum(\"segundos\")).otherwise(0).alias(\"sum_segundos\")\\\n",
    "#                          ).show()"
   ]
  },
  {
   "cell_type": "code",
   "execution_count": 18,
   "metadata": {},
   "outputs": [],
   "source": [
    "mtDfInter01=mtDf\\\n",
    "    .withColumn(\"segMobile\", F.when(mtDf.tipo == \"MOBILE\", mtDf.segundos).otherwise(0))\\\n",
    "    .withColumn(\"segService\", F.when(mtDf.tipo == \"SERVICE\", mtDf.segundos).otherwise(0))\\\n",
    "    .withColumn(\"segInternational\", F.when(mtDf.tipo == \"INTERNATIONAL\", mtDf.segundos).otherwise(0))\\\n",
    "    .withColumn(\"segOthers\", F.when(~((mtDf.tipo==\"INTERNATIONAL\")|\\\n",
    "                                            (mtDf.tipo==\"SERVICE\")|\\\n",
    "                                            (mtDf.tipo==\"MOBILE\")), mtDf.segundos).otherwise(0))\\\n",
    "    .withColumn(\"llaMobile\", F.when(mtDf.tipo == \"MOBILE\", mtDf.llamadas).otherwise(0))\\\n",
    "    .withColumn(\"llaService\", F.when(mtDf.tipo == \"SERVICE\", mtDf.llamadas).otherwise(0))\\\n",
    "    .withColumn(\"llaInternational\", F.when(mtDf.tipo == \"INTERNATIONAL\", mtDf.llamadas).otherwise(0))\\\n",
    "    .withColumn(\"llaOthers\", F.when(~((mtDf.tipo==\"INTERNATIONAL\")|\\\n",
    "                                            (mtDf.tipo==\"SERVICE\")|\\\n",
    "                                            (mtDf.tipo==\"MOBILE\")), mtDf.llamadas).otherwise(0))\\\n",
    "    .withColumn(\"smsMobile\", F.when(mtDf.tipo == \"MOBILE\", mtDf.mensajes).otherwise(0))\\\n",
    "    .withColumn(\"smsService\", F.when(mtDf.tipo == \"SERVICE\", mtDf.mensajes).otherwise(0))\\\n",
    "    .withColumn(\"smsInternational\", F.when(mtDf.tipo == \"INTERNATIONAL\", mtDf.mensajes).otherwise(0))\\\n",
    "    .withColumn(\"smsOthers\", F.when(~((mtDf.tipo==\"INTERNATIONAL\")|\\\n",
    "                                            (mtDf.tipo==\"SERVICE\")|\\\n",
    "                                            (mtDf.tipo==\"MOBILE\")), mtDf.mensajes).otherwise(0))\\\n",
    "    .withColumn(\"desMobile\", F.when(mtDf.tipo == \"MOBILE\", mtDf.destino))\\\n",
    "    .withColumn(\"desService\", F.when(mtDf.tipo == \"SERVICE\", mtDf.destino))\\\n",
    "    .withColumn(\"desInternational\", F.when(mtDf.tipo == \"INTERNATIONAL\", mtDf.destino))\\\n",
    "    .withColumn(\"desOthers\", F.when(~((mtDf.tipo==\"INTERNATIONAL\")|\\\n",
    "                                            (mtDf.tipo==\"SERVICE\")|\\\n",
    "                                            (mtDf.tipo==\"MOBILE\")), mtDf.destino))"
   ]
  },
  {
   "cell_type": "code",
   "execution_count": 19,
   "metadata": {},
   "outputs": [
    {
     "data": {
      "text/html": [
       "<div>\n",
       "<style scoped>\n",
       "    .dataframe tbody tr th:only-of-type {\n",
       "        vertical-align: middle;\n",
       "    }\n",
       "\n",
       "    .dataframe tbody tr th {\n",
       "        vertical-align: top;\n",
       "    }\n",
       "\n",
       "    .dataframe thead th {\n",
       "        text-align: right;\n",
       "    }\n",
       "</style>\n",
       "<table border=\"1\" class=\"dataframe\">\n",
       "  <thead>\n",
       "    <tr style=\"text-align: right;\">\n",
       "      <th></th>\n",
       "      <th>origen</th>\n",
       "      <th>destino</th>\n",
       "      <th>tipo</th>\n",
       "      <th>segundos</th>\n",
       "      <th>llamadas</th>\n",
       "      <th>mensajes</th>\n",
       "      <th>segMobile</th>\n",
       "      <th>segService</th>\n",
       "      <th>segInternational</th>\n",
       "      <th>segOthers</th>\n",
       "      <th>...</th>\n",
       "      <th>llaInternational</th>\n",
       "      <th>llaOthers</th>\n",
       "      <th>smsMobile</th>\n",
       "      <th>smsService</th>\n",
       "      <th>smsInternational</th>\n",
       "      <th>smsOthers</th>\n",
       "      <th>desMobile</th>\n",
       "      <th>desService</th>\n",
       "      <th>desInternational</th>\n",
       "      <th>desOthers</th>\n",
       "    </tr>\n",
       "  </thead>\n",
       "  <tbody>\n",
       "    <tr>\n",
       "      <th>0</th>\n",
       "      <td>0917f9c3329fcdbee8265972cb788574d1a56ec779dff5...</td>\n",
       "      <td>555</td>\n",
       "      <td>SERVICE</td>\n",
       "      <td>0.0</td>\n",
       "      <td>0.0</td>\n",
       "      <td>1.0</td>\n",
       "      <td>0.0</td>\n",
       "      <td>0.0</td>\n",
       "      <td>0.0</td>\n",
       "      <td>0.0</td>\n",
       "      <td>...</td>\n",
       "      <td>0.0</td>\n",
       "      <td>0.0</td>\n",
       "      <td>0.0</td>\n",
       "      <td>1.0</td>\n",
       "      <td>0.0</td>\n",
       "      <td>0.0</td>\n",
       "      <td>None</td>\n",
       "      <td>555</td>\n",
       "      <td>None</td>\n",
       "      <td>None</td>\n",
       "    </tr>\n",
       "    <tr>\n",
       "      <th>1</th>\n",
       "      <td>557cc43b17fcee5245984b532984c25993adfe852e4bb5...</td>\n",
       "      <td>c693af5d121c68d63c589ea557dd732a999a0cc5c5e12d...</td>\n",
       "      <td>MOBILE</td>\n",
       "      <td>47.0</td>\n",
       "      <td>1.0</td>\n",
       "      <td>1.0</td>\n",
       "      <td>47.0</td>\n",
       "      <td>0.0</td>\n",
       "      <td>0.0</td>\n",
       "      <td>0.0</td>\n",
       "      <td>...</td>\n",
       "      <td>0.0</td>\n",
       "      <td>0.0</td>\n",
       "      <td>1.0</td>\n",
       "      <td>0.0</td>\n",
       "      <td>0.0</td>\n",
       "      <td>0.0</td>\n",
       "      <td>c693af5d121c68d63c589ea557dd732a999a0cc5c5e12d...</td>\n",
       "      <td>None</td>\n",
       "      <td>None</td>\n",
       "      <td>None</td>\n",
       "    </tr>\n",
       "    <tr>\n",
       "      <th>2</th>\n",
       "      <td>332e59a9c83d6b6909a678212f79e208f6d063be5e391e...</td>\n",
       "      <td>dec6d3468db94542f075899818949c4dcb9b39e8238774...</td>\n",
       "      <td>MOBILE</td>\n",
       "      <td>0.0</td>\n",
       "      <td>0.0</td>\n",
       "      <td>1.0</td>\n",
       "      <td>0.0</td>\n",
       "      <td>0.0</td>\n",
       "      <td>0.0</td>\n",
       "      <td>0.0</td>\n",
       "      <td>...</td>\n",
       "      <td>0.0</td>\n",
       "      <td>0.0</td>\n",
       "      <td>1.0</td>\n",
       "      <td>0.0</td>\n",
       "      <td>0.0</td>\n",
       "      <td>0.0</td>\n",
       "      <td>dec6d3468db94542f075899818949c4dcb9b39e8238774...</td>\n",
       "      <td>None</td>\n",
       "      <td>None</td>\n",
       "      <td>None</td>\n",
       "    </tr>\n",
       "    <tr>\n",
       "      <th>3</th>\n",
       "      <td>b542cacb488db4d18704f4c409f8257b5115c39bf7d28f...</td>\n",
       "      <td>ea95e0ca4d591b2d40d9b3a9e404b859c35da9c7f40c78...</td>\n",
       "      <td>MOBILE</td>\n",
       "      <td>0.0</td>\n",
       "      <td>0.0</td>\n",
       "      <td>1.0</td>\n",
       "      <td>0.0</td>\n",
       "      <td>0.0</td>\n",
       "      <td>0.0</td>\n",
       "      <td>0.0</td>\n",
       "      <td>...</td>\n",
       "      <td>0.0</td>\n",
       "      <td>0.0</td>\n",
       "      <td>1.0</td>\n",
       "      <td>0.0</td>\n",
       "      <td>0.0</td>\n",
       "      <td>0.0</td>\n",
       "      <td>ea95e0ca4d591b2d40d9b3a9e404b859c35da9c7f40c78...</td>\n",
       "      <td>None</td>\n",
       "      <td>None</td>\n",
       "      <td>None</td>\n",
       "    </tr>\n",
       "    <tr>\n",
       "      <th>4</th>\n",
       "      <td>87c596657693f26f57f14eeabb03f5bd8944308029d2af...</td>\n",
       "      <td>6da01f1adeb493ffb38115a7912792946b29faa74709b4...</td>\n",
       "      <td>MOBILE</td>\n",
       "      <td>23.0</td>\n",
       "      <td>1.0</td>\n",
       "      <td>0.0</td>\n",
       "      <td>23.0</td>\n",
       "      <td>0.0</td>\n",
       "      <td>0.0</td>\n",
       "      <td>0.0</td>\n",
       "      <td>...</td>\n",
       "      <td>0.0</td>\n",
       "      <td>0.0</td>\n",
       "      <td>0.0</td>\n",
       "      <td>0.0</td>\n",
       "      <td>0.0</td>\n",
       "      <td>0.0</td>\n",
       "      <td>6da01f1adeb493ffb38115a7912792946b29faa74709b4...</td>\n",
       "      <td>None</td>\n",
       "      <td>None</td>\n",
       "      <td>None</td>\n",
       "    </tr>\n",
       "  </tbody>\n",
       "</table>\n",
       "<p>5 rows × 22 columns</p>\n",
       "</div>"
      ],
      "text/plain": [
       "                                              origen  \\\n",
       "0  0917f9c3329fcdbee8265972cb788574d1a56ec779dff5...   \n",
       "1  557cc43b17fcee5245984b532984c25993adfe852e4bb5...   \n",
       "2  332e59a9c83d6b6909a678212f79e208f6d063be5e391e...   \n",
       "3  b542cacb488db4d18704f4c409f8257b5115c39bf7d28f...   \n",
       "4  87c596657693f26f57f14eeabb03f5bd8944308029d2af...   \n",
       "\n",
       "                                             destino     tipo  segundos  \\\n",
       "0                                                555  SERVICE       0.0   \n",
       "1  c693af5d121c68d63c589ea557dd732a999a0cc5c5e12d...   MOBILE      47.0   \n",
       "2  dec6d3468db94542f075899818949c4dcb9b39e8238774...   MOBILE       0.0   \n",
       "3  ea95e0ca4d591b2d40d9b3a9e404b859c35da9c7f40c78...   MOBILE       0.0   \n",
       "4  6da01f1adeb493ffb38115a7912792946b29faa74709b4...   MOBILE      23.0   \n",
       "\n",
       "   llamadas  mensajes  segMobile  segService  segInternational  segOthers  \\\n",
       "0       0.0       1.0        0.0         0.0               0.0        0.0   \n",
       "1       1.0       1.0       47.0         0.0               0.0        0.0   \n",
       "2       0.0       1.0        0.0         0.0               0.0        0.0   \n",
       "3       0.0       1.0        0.0         0.0               0.0        0.0   \n",
       "4       1.0       0.0       23.0         0.0               0.0        0.0   \n",
       "\n",
       "   ...  llaInternational  llaOthers  smsMobile  smsService  smsInternational  \\\n",
       "0  ...               0.0        0.0        0.0         1.0               0.0   \n",
       "1  ...               0.0        0.0        1.0         0.0               0.0   \n",
       "2  ...               0.0        0.0        1.0         0.0               0.0   \n",
       "3  ...               0.0        0.0        1.0         0.0               0.0   \n",
       "4  ...               0.0        0.0        0.0         0.0               0.0   \n",
       "\n",
       "   smsOthers                                          desMobile  desService  \\\n",
       "0        0.0                                               None         555   \n",
       "1        0.0  c693af5d121c68d63c589ea557dd732a999a0cc5c5e12d...        None   \n",
       "2        0.0  dec6d3468db94542f075899818949c4dcb9b39e8238774...        None   \n",
       "3        0.0  ea95e0ca4d591b2d40d9b3a9e404b859c35da9c7f40c78...        None   \n",
       "4        0.0  6da01f1adeb493ffb38115a7912792946b29faa74709b4...        None   \n",
       "\n",
       "  desInternational desOthers  \n",
       "0             None      None  \n",
       "1             None      None  \n",
       "2             None      None  \n",
       "3             None      None  \n",
       "4             None      None  \n",
       "\n",
       "[5 rows x 22 columns]"
      ]
     },
     "execution_count": 19,
     "metadata": {},
     "output_type": "execute_result"
    }
   ],
   "source": [
    "mtDfInter01.limit(10).toPandas().head()"
   ]
  },
  {
   "cell_type": "code",
   "execution_count": 20,
   "metadata": {},
   "outputs": [
    {
     "data": {
      "text/plain": [
       "13089763"
      ]
     },
     "execution_count": 20,
     "metadata": {},
     "output_type": "execute_result"
    }
   ],
   "source": [
    "mtDfInter01.count()  #8,145,810  #13,089,763"
   ]
  },
  {
   "cell_type": "code",
   "execution_count": 21,
   "metadata": {},
   "outputs": [],
   "source": [
    "mtDfInter01 = mtDfInter01.groupBy(\"origen\")\\\n",
    "            .agg(\\\n",
    "                 ### Agregando en Segundos\n",
    "                 F.sum(\"segundos\").alias(\"sumSeg\")\\\n",
    "                ,F.sum(\"segMobile\").alias(\"sumSegMobile\")\\\n",
    "                ,F.sum(\"segService\").alias(\"sumSegService\")\\\n",
    "                ,F.sum(\"segInternational\").alias(\"sumSegInternational\")\\\n",
    "                ,F.sum(\"segOthers\").alias(\"sumSegOthers\")\\\n",
    "                 ### Agregando en llamadas\n",
    "                ,F.sum(\"llamadas\").alias(\"sumLla\")\\\n",
    "                ,F.sum(\"llaMobile\").alias(\"sumLlaMobile\")\\\n",
    "                ,F.sum(\"llaService\").alias(\"sumLlaService\")\\\n",
    "                ,F.sum(\"llaInternational\").alias(\"sumLlaInternational\")\\\n",
    "                ,F.sum(\"llaOthers\").alias(\"sumLlaOthers\")\\\n",
    "                  ### Agregando en mensajes\n",
    "                ,F.sum(\"mensajes\").alias(\"sumSms\")\\\n",
    "                ,F.sum(\"smsMobile\").alias(\"sumSmsMobile\")\\\n",
    "                ,F.sum(\"smsService\").alias(\"sumSmsService\")\\\n",
    "                ,F.sum(\"smsInternational\").alias(\"sumSmsInternational\")\\\n",
    "                ,F.sum(\"smsOthers\").alias(\"sumSmsOthers\")\\\n",
    "                 ### Agregando destinos distintos\n",
    "                ,F.countDistinct(\"destino\").alias(\"nroDest\")\\\n",
    "                ,F.countDistinct(\"desMobile\").alias(\"nroDestMobile\")\\\n",
    "                ,F.countDistinct(\"desService\").alias(\"nroDestService\")\\\n",
    "                ,F.countDistinct(\"desInternational\").alias(\"nroDestInternational\")\\\n",
    "                ,F.countDistinct(\"desOthers\").alias(\"nroDestOthers\")\\\n",
    "                )"
   ]
  },
  {
   "cell_type": "code",
   "execution_count": 22,
   "metadata": {},
   "outputs": [
    {
     "data": {
      "text/plain": [
       "3578079"
      ]
     },
     "execution_count": 22,
     "metadata": {},
     "output_type": "execute_result"
    }
   ],
   "source": [
    "mtDfInter01.count()  # 2,210,592 # 3,578,079"
   ]
  },
  {
   "cell_type": "code",
   "execution_count": 23,
   "metadata": {},
   "outputs": [
    {
     "data": {
      "text/html": [
       "<div>\n",
       "<style scoped>\n",
       "    .dataframe tbody tr th:only-of-type {\n",
       "        vertical-align: middle;\n",
       "    }\n",
       "\n",
       "    .dataframe tbody tr th {\n",
       "        vertical-align: top;\n",
       "    }\n",
       "\n",
       "    .dataframe thead th {\n",
       "        text-align: right;\n",
       "    }\n",
       "</style>\n",
       "<table border=\"1\" class=\"dataframe\">\n",
       "  <thead>\n",
       "    <tr style=\"text-align: right;\">\n",
       "      <th></th>\n",
       "      <th>origen</th>\n",
       "      <th>sumSeg</th>\n",
       "      <th>sumSegMobile</th>\n",
       "      <th>sumSegService</th>\n",
       "      <th>sumSegInternational</th>\n",
       "      <th>sumSegOthers</th>\n",
       "      <th>sumLla</th>\n",
       "      <th>sumLlaMobile</th>\n",
       "      <th>sumLlaService</th>\n",
       "      <th>sumLlaInternational</th>\n",
       "      <th>...</th>\n",
       "      <th>sumSms</th>\n",
       "      <th>sumSmsMobile</th>\n",
       "      <th>sumSmsService</th>\n",
       "      <th>sumSmsInternational</th>\n",
       "      <th>sumSmsOthers</th>\n",
       "      <th>nroDest</th>\n",
       "      <th>nroDestMobile</th>\n",
       "      <th>nroDestService</th>\n",
       "      <th>nroDestInternational</th>\n",
       "      <th>nroDestOthers</th>\n",
       "    </tr>\n",
       "  </thead>\n",
       "  <tbody>\n",
       "    <tr>\n",
       "      <th>0</th>\n",
       "      <td>ae2053561faf605eda4f240e1f3ed8b06290b0dfdf33c3...</td>\n",
       "      <td>585.0</td>\n",
       "      <td>585.0</td>\n",
       "      <td>0.0</td>\n",
       "      <td>0.0</td>\n",
       "      <td>0.0</td>\n",
       "      <td>11.0</td>\n",
       "      <td>11.0</td>\n",
       "      <td>0.0</td>\n",
       "      <td>0.0</td>\n",
       "      <td>...</td>\n",
       "      <td>0.0</td>\n",
       "      <td>0.0</td>\n",
       "      <td>0.0</td>\n",
       "      <td>0.0</td>\n",
       "      <td>0.0</td>\n",
       "      <td>9</td>\n",
       "      <td>9</td>\n",
       "      <td>0</td>\n",
       "      <td>0</td>\n",
       "      <td>0</td>\n",
       "    </tr>\n",
       "    <tr>\n",
       "      <th>1</th>\n",
       "      <td>c42b280c21670fb04496bfa9c5f026a71474f4edc9caf8...</td>\n",
       "      <td>121.0</td>\n",
       "      <td>121.0</td>\n",
       "      <td>0.0</td>\n",
       "      <td>0.0</td>\n",
       "      <td>0.0</td>\n",
       "      <td>4.0</td>\n",
       "      <td>4.0</td>\n",
       "      <td>0.0</td>\n",
       "      <td>0.0</td>\n",
       "      <td>...</td>\n",
       "      <td>6.0</td>\n",
       "      <td>6.0</td>\n",
       "      <td>0.0</td>\n",
       "      <td>0.0</td>\n",
       "      <td>0.0</td>\n",
       "      <td>4</td>\n",
       "      <td>4</td>\n",
       "      <td>0</td>\n",
       "      <td>0</td>\n",
       "      <td>0</td>\n",
       "    </tr>\n",
       "    <tr>\n",
       "      <th>2</th>\n",
       "      <td>1921ccc15bc21eb383894a86e8b881fffa1a6f0e353782...</td>\n",
       "      <td>102.0</td>\n",
       "      <td>102.0</td>\n",
       "      <td>0.0</td>\n",
       "      <td>0.0</td>\n",
       "      <td>0.0</td>\n",
       "      <td>3.0</td>\n",
       "      <td>3.0</td>\n",
       "      <td>0.0</td>\n",
       "      <td>0.0</td>\n",
       "      <td>...</td>\n",
       "      <td>16.0</td>\n",
       "      <td>16.0</td>\n",
       "      <td>0.0</td>\n",
       "      <td>0.0</td>\n",
       "      <td>0.0</td>\n",
       "      <td>8</td>\n",
       "      <td>8</td>\n",
       "      <td>0</td>\n",
       "      <td>0</td>\n",
       "      <td>0</td>\n",
       "    </tr>\n",
       "    <tr>\n",
       "      <th>3</th>\n",
       "      <td>eb4c3d07e6f98ad05ce579a95f6aa19022483909ede73c...</td>\n",
       "      <td>560.0</td>\n",
       "      <td>560.0</td>\n",
       "      <td>0.0</td>\n",
       "      <td>0.0</td>\n",
       "      <td>0.0</td>\n",
       "      <td>5.0</td>\n",
       "      <td>5.0</td>\n",
       "      <td>0.0</td>\n",
       "      <td>0.0</td>\n",
       "      <td>...</td>\n",
       "      <td>0.0</td>\n",
       "      <td>0.0</td>\n",
       "      <td>0.0</td>\n",
       "      <td>0.0</td>\n",
       "      <td>0.0</td>\n",
       "      <td>5</td>\n",
       "      <td>5</td>\n",
       "      <td>0</td>\n",
       "      <td>0</td>\n",
       "      <td>0</td>\n",
       "    </tr>\n",
       "    <tr>\n",
       "      <th>4</th>\n",
       "      <td>3fe43e212755835a01c0d1999d828809749f4e9d2c9e45...</td>\n",
       "      <td>619.0</td>\n",
       "      <td>619.0</td>\n",
       "      <td>0.0</td>\n",
       "      <td>0.0</td>\n",
       "      <td>0.0</td>\n",
       "      <td>9.0</td>\n",
       "      <td>9.0</td>\n",
       "      <td>0.0</td>\n",
       "      <td>0.0</td>\n",
       "      <td>...</td>\n",
       "      <td>3.0</td>\n",
       "      <td>0.0</td>\n",
       "      <td>3.0</td>\n",
       "      <td>0.0</td>\n",
       "      <td>0.0</td>\n",
       "      <td>5</td>\n",
       "      <td>3</td>\n",
       "      <td>2</td>\n",
       "      <td>0</td>\n",
       "      <td>0</td>\n",
       "    </tr>\n",
       "  </tbody>\n",
       "</table>\n",
       "<p>5 rows × 21 columns</p>\n",
       "</div>"
      ],
      "text/plain": [
       "                                              origen  sumSeg  sumSegMobile  \\\n",
       "0  ae2053561faf605eda4f240e1f3ed8b06290b0dfdf33c3...   585.0         585.0   \n",
       "1  c42b280c21670fb04496bfa9c5f026a71474f4edc9caf8...   121.0         121.0   \n",
       "2  1921ccc15bc21eb383894a86e8b881fffa1a6f0e353782...   102.0         102.0   \n",
       "3  eb4c3d07e6f98ad05ce579a95f6aa19022483909ede73c...   560.0         560.0   \n",
       "4  3fe43e212755835a01c0d1999d828809749f4e9d2c9e45...   619.0         619.0   \n",
       "\n",
       "   sumSegService  sumSegInternational  sumSegOthers  sumLla  sumLlaMobile  \\\n",
       "0            0.0                  0.0           0.0    11.0          11.0   \n",
       "1            0.0                  0.0           0.0     4.0           4.0   \n",
       "2            0.0                  0.0           0.0     3.0           3.0   \n",
       "3            0.0                  0.0           0.0     5.0           5.0   \n",
       "4            0.0                  0.0           0.0     9.0           9.0   \n",
       "\n",
       "   sumLlaService  sumLlaInternational  ...  sumSms  sumSmsMobile  \\\n",
       "0            0.0                  0.0  ...     0.0           0.0   \n",
       "1            0.0                  0.0  ...     6.0           6.0   \n",
       "2            0.0                  0.0  ...    16.0          16.0   \n",
       "3            0.0                  0.0  ...     0.0           0.0   \n",
       "4            0.0                  0.0  ...     3.0           0.0   \n",
       "\n",
       "   sumSmsService  sumSmsInternational  sumSmsOthers  nroDest  nroDestMobile  \\\n",
       "0            0.0                  0.0           0.0        9              9   \n",
       "1            0.0                  0.0           0.0        4              4   \n",
       "2            0.0                  0.0           0.0        8              8   \n",
       "3            0.0                  0.0           0.0        5              5   \n",
       "4            3.0                  0.0           0.0        5              3   \n",
       "\n",
       "   nroDestService  nroDestInternational  nroDestOthers  \n",
       "0               0                     0              0  \n",
       "1               0                     0              0  \n",
       "2               0                     0              0  \n",
       "3               0                     0              0  \n",
       "4               2                     0              0  \n",
       "\n",
       "[5 rows x 21 columns]"
      ]
     },
     "execution_count": 23,
     "metadata": {},
     "output_type": "execute_result"
    }
   ],
   "source": [
    "mtDfInter01.limit(10).toPandas().head()"
   ]
  },
  {
   "cell_type": "code",
   "execution_count": 24,
   "metadata": {},
   "outputs": [],
   "source": [
    "#moDf.filter(moDf.origen==\"5f96f009c808466497ce0a5e19126cd9144be71c3245766948a57a2e\").show()"
   ]
  },
  {
   "cell_type": "code",
   "execution_count": 25,
   "metadata": {},
   "outputs": [
    {
     "name": "stdout",
     "output_type": "stream",
     "text": [
      "+--------------------+--------------------+-------------+--------+--------+--------+\n",
      "|              origen|             destino|         tipo|segundos|llamadas|mensajes|\n",
      "+--------------------+--------------------+-------------+--------+--------+--------+\n",
      "|5f96f009c80846649...|f567a1dfa8f855c75...|       MOBILE|    15.0|     1.0|     0.0|\n",
      "|5f96f009c80846649...|919d4f8ff96c308ea...|       MOBILE|    18.0|     1.0|     0.0|\n",
      "|5f96f009c80846649...|                 123|      SERVICE|     0.0|     0.0|     2.0|\n",
      "|5f96f009c80846649...|d3d860c3858753962...|INTERNATIONAL|   109.0|     4.0|     0.0|\n",
      "|5f96f009c80846649...|536f006f14cd4b900...|INTERNATIONAL|  1571.0|     2.0|     2.0|\n",
      "|5f96f009c80846649...|b912396f6cc122e4e...|       MOBILE|     0.0|     0.0|     2.0|\n",
      "|5f96f009c80846649...|e82b79b2764e8fd55...|       MOBILE|     0.0|     0.0|     9.0|\n",
      "+--------------------+--------------------+-------------+--------+--------+--------+\n",
      "\n"
     ]
    }
   ],
   "source": [
    "mtDf.filter(mtDf.origen==\"5f96f009c808466497ce0a5e19126cd9144be71c3245766948a57a2e\").show()"
   ]
  },
  {
   "cell_type": "code",
   "execution_count": 26,
   "metadata": {},
   "outputs": [],
   "source": [
    "### Agregando Proporciones\n",
    "### Agregando proporciones en segundos con un artificio para evitar la división por 0\n",
    "### Agregando proporciones en llamadas con un artificio para evitar la división por 0\n",
    "### Agregando proporciones en mensajes con un artificio para evitar la división por 0\n",
    "### Agregando proporciones en nro de destinos con un artificio para evitar la división por 0\n",
    "mtDfInter01 = mtDfInter01\\\n",
    "    .withColumn(\"PropSegMobile\", F.round((mtDfInter01.sumSegMobile+0.5)/(mtDfInter01.sumSeg+1),5))\\\n",
    "    .withColumn(\"PropSegService\", F.round((mtDfInter01.sumSegService+0.5)/(mtDfInter01.sumSeg+1),5))\\\n",
    "    .withColumn(\"PropSegInternational\", F.round((mtDfInter01.sumSegInternational+0.5)/(mtDfInter01.sumSeg+1),5))\\\n",
    "    .withColumn(\"PropLlaMobile\", F.round((mtDfInter01.sumLlaMobile+0.5)/(mtDfInter01.sumLla+1),5))\\\n",
    "    .withColumn(\"PropLlaService\", F.round((mtDfInter01.sumLlaService+0.5)/(mtDfInter01.sumLla+1),5))\\\n",
    "    .withColumn(\"PropLlaInternational\", F.round((mtDfInter01.sumLlaInternational+0.5)/(mtDfInter01.sumLla+1),5))\\\n",
    "    .withColumn(\"PropSmsMobile\", F.round((mtDfInter01.sumSmsMobile+0.5)/(mtDfInter01.sumLla+1),5))\\\n",
    "    .withColumn(\"PropSmsService\", F.round((mtDfInter01.sumSmsService+0.5)/(mtDfInter01.sumLla+1),5))\\\n",
    "    .withColumn(\"PropSmsInternational\", F.round((mtDfInter01.sumSmsInternational+0.5)/(mtDfInter01.sumSms+1),5))\\\n",
    "    .withColumn(\"PropNroDestMobile\", F.round((mtDfInter01.nroDestMobile+0.5)/(mtDfInter01.nroDest+1),5))\\\n",
    "    .withColumn(\"PropNroDestService\", F.round((mtDfInter01.nroDestService+0.5)/(mtDfInter01.nroDest+1),5))\\\n",
    "    .withColumn(\"PropNroDestInternational\", F.round((mtDfInter01.nroDestInternational+0.5)/(mtDfInter01.nroDest+1),5))"
   ]
  },
  {
   "cell_type": "code",
   "execution_count": 27,
   "metadata": {},
   "outputs": [
    {
     "data": {
      "text/html": [
       "<div>\n",
       "<style scoped>\n",
       "    .dataframe tbody tr th:only-of-type {\n",
       "        vertical-align: middle;\n",
       "    }\n",
       "\n",
       "    .dataframe tbody tr th {\n",
       "        vertical-align: top;\n",
       "    }\n",
       "\n",
       "    .dataframe thead th {\n",
       "        text-align: right;\n",
       "    }\n",
       "</style>\n",
       "<table border=\"1\" class=\"dataframe\">\n",
       "  <thead>\n",
       "    <tr style=\"text-align: right;\">\n",
       "      <th></th>\n",
       "      <th>origen</th>\n",
       "      <th>sumSeg</th>\n",
       "      <th>sumSegMobile</th>\n",
       "      <th>sumSegService</th>\n",
       "      <th>sumSegInternational</th>\n",
       "      <th>sumSegOthers</th>\n",
       "      <th>sumLla</th>\n",
       "      <th>sumLlaMobile</th>\n",
       "      <th>sumLlaService</th>\n",
       "      <th>sumLlaInternational</th>\n",
       "      <th>...</th>\n",
       "      <th>PropSegInternational</th>\n",
       "      <th>PropLlaMobile</th>\n",
       "      <th>PropLlaService</th>\n",
       "      <th>PropLlaInternational</th>\n",
       "      <th>PropSmsMobile</th>\n",
       "      <th>PropSmsService</th>\n",
       "      <th>PropSmsInternational</th>\n",
       "      <th>PropNroDestMobile</th>\n",
       "      <th>PropNroDestService</th>\n",
       "      <th>PropNroDestInternational</th>\n",
       "    </tr>\n",
       "  </thead>\n",
       "  <tbody>\n",
       "    <tr>\n",
       "      <th>0</th>\n",
       "      <td>ae2053561faf605eda4f240e1f3ed8b06290b0dfdf33c3...</td>\n",
       "      <td>585.0</td>\n",
       "      <td>585.0</td>\n",
       "      <td>0.0</td>\n",
       "      <td>0.0</td>\n",
       "      <td>0.0</td>\n",
       "      <td>11.0</td>\n",
       "      <td>11.0</td>\n",
       "      <td>0.0</td>\n",
       "      <td>0.0</td>\n",
       "      <td>...</td>\n",
       "      <td>0.00085</td>\n",
       "      <td>0.95833</td>\n",
       "      <td>0.04167</td>\n",
       "      <td>0.04167</td>\n",
       "      <td>0.04167</td>\n",
       "      <td>0.04167</td>\n",
       "      <td>0.50000</td>\n",
       "      <td>0.95000</td>\n",
       "      <td>0.05000</td>\n",
       "      <td>0.05000</td>\n",
       "    </tr>\n",
       "    <tr>\n",
       "      <th>1</th>\n",
       "      <td>c42b280c21670fb04496bfa9c5f026a71474f4edc9caf8...</td>\n",
       "      <td>121.0</td>\n",
       "      <td>121.0</td>\n",
       "      <td>0.0</td>\n",
       "      <td>0.0</td>\n",
       "      <td>0.0</td>\n",
       "      <td>4.0</td>\n",
       "      <td>4.0</td>\n",
       "      <td>0.0</td>\n",
       "      <td>0.0</td>\n",
       "      <td>...</td>\n",
       "      <td>0.00410</td>\n",
       "      <td>0.90000</td>\n",
       "      <td>0.10000</td>\n",
       "      <td>0.10000</td>\n",
       "      <td>1.30000</td>\n",
       "      <td>0.10000</td>\n",
       "      <td>0.07143</td>\n",
       "      <td>0.90000</td>\n",
       "      <td>0.10000</td>\n",
       "      <td>0.10000</td>\n",
       "    </tr>\n",
       "    <tr>\n",
       "      <th>2</th>\n",
       "      <td>1921ccc15bc21eb383894a86e8b881fffa1a6f0e353782...</td>\n",
       "      <td>102.0</td>\n",
       "      <td>102.0</td>\n",
       "      <td>0.0</td>\n",
       "      <td>0.0</td>\n",
       "      <td>0.0</td>\n",
       "      <td>3.0</td>\n",
       "      <td>3.0</td>\n",
       "      <td>0.0</td>\n",
       "      <td>0.0</td>\n",
       "      <td>...</td>\n",
       "      <td>0.00485</td>\n",
       "      <td>0.87500</td>\n",
       "      <td>0.12500</td>\n",
       "      <td>0.12500</td>\n",
       "      <td>4.12500</td>\n",
       "      <td>0.12500</td>\n",
       "      <td>0.02941</td>\n",
       "      <td>0.94444</td>\n",
       "      <td>0.05556</td>\n",
       "      <td>0.05556</td>\n",
       "    </tr>\n",
       "    <tr>\n",
       "      <th>3</th>\n",
       "      <td>eb4c3d07e6f98ad05ce579a95f6aa19022483909ede73c...</td>\n",
       "      <td>560.0</td>\n",
       "      <td>560.0</td>\n",
       "      <td>0.0</td>\n",
       "      <td>0.0</td>\n",
       "      <td>0.0</td>\n",
       "      <td>5.0</td>\n",
       "      <td>5.0</td>\n",
       "      <td>0.0</td>\n",
       "      <td>0.0</td>\n",
       "      <td>...</td>\n",
       "      <td>0.00089</td>\n",
       "      <td>0.91667</td>\n",
       "      <td>0.08333</td>\n",
       "      <td>0.08333</td>\n",
       "      <td>0.08333</td>\n",
       "      <td>0.08333</td>\n",
       "      <td>0.50000</td>\n",
       "      <td>0.91667</td>\n",
       "      <td>0.08333</td>\n",
       "      <td>0.08333</td>\n",
       "    </tr>\n",
       "    <tr>\n",
       "      <th>4</th>\n",
       "      <td>3fe43e212755835a01c0d1999d828809749f4e9d2c9e45...</td>\n",
       "      <td>619.0</td>\n",
       "      <td>619.0</td>\n",
       "      <td>0.0</td>\n",
       "      <td>0.0</td>\n",
       "      <td>0.0</td>\n",
       "      <td>9.0</td>\n",
       "      <td>9.0</td>\n",
       "      <td>0.0</td>\n",
       "      <td>0.0</td>\n",
       "      <td>...</td>\n",
       "      <td>0.00081</td>\n",
       "      <td>0.95000</td>\n",
       "      <td>0.05000</td>\n",
       "      <td>0.05000</td>\n",
       "      <td>0.05000</td>\n",
       "      <td>0.35000</td>\n",
       "      <td>0.12500</td>\n",
       "      <td>0.58333</td>\n",
       "      <td>0.41667</td>\n",
       "      <td>0.08333</td>\n",
       "    </tr>\n",
       "  </tbody>\n",
       "</table>\n",
       "<p>5 rows × 33 columns</p>\n",
       "</div>"
      ],
      "text/plain": [
       "                                              origen  sumSeg  sumSegMobile  \\\n",
       "0  ae2053561faf605eda4f240e1f3ed8b06290b0dfdf33c3...   585.0         585.0   \n",
       "1  c42b280c21670fb04496bfa9c5f026a71474f4edc9caf8...   121.0         121.0   \n",
       "2  1921ccc15bc21eb383894a86e8b881fffa1a6f0e353782...   102.0         102.0   \n",
       "3  eb4c3d07e6f98ad05ce579a95f6aa19022483909ede73c...   560.0         560.0   \n",
       "4  3fe43e212755835a01c0d1999d828809749f4e9d2c9e45...   619.0         619.0   \n",
       "\n",
       "   sumSegService  sumSegInternational  sumSegOthers  sumLla  sumLlaMobile  \\\n",
       "0            0.0                  0.0           0.0    11.0          11.0   \n",
       "1            0.0                  0.0           0.0     4.0           4.0   \n",
       "2            0.0                  0.0           0.0     3.0           3.0   \n",
       "3            0.0                  0.0           0.0     5.0           5.0   \n",
       "4            0.0                  0.0           0.0     9.0           9.0   \n",
       "\n",
       "   sumLlaService  sumLlaInternational  ...  PropSegInternational  \\\n",
       "0            0.0                  0.0  ...               0.00085   \n",
       "1            0.0                  0.0  ...               0.00410   \n",
       "2            0.0                  0.0  ...               0.00485   \n",
       "3            0.0                  0.0  ...               0.00089   \n",
       "4            0.0                  0.0  ...               0.00081   \n",
       "\n",
       "   PropLlaMobile  PropLlaService  PropLlaInternational  PropSmsMobile  \\\n",
       "0        0.95833         0.04167               0.04167        0.04167   \n",
       "1        0.90000         0.10000               0.10000        1.30000   \n",
       "2        0.87500         0.12500               0.12500        4.12500   \n",
       "3        0.91667         0.08333               0.08333        0.08333   \n",
       "4        0.95000         0.05000               0.05000        0.05000   \n",
       "\n",
       "   PropSmsService  PropSmsInternational  PropNroDestMobile  \\\n",
       "0         0.04167               0.50000            0.95000   \n",
       "1         0.10000               0.07143            0.90000   \n",
       "2         0.12500               0.02941            0.94444   \n",
       "3         0.08333               0.50000            0.91667   \n",
       "4         0.35000               0.12500            0.58333   \n",
       "\n",
       "   PropNroDestService  PropNroDestInternational  \n",
       "0             0.05000                   0.05000  \n",
       "1             0.10000                   0.10000  \n",
       "2             0.05556                   0.05556  \n",
       "3             0.08333                   0.08333  \n",
       "4             0.41667                   0.08333  \n",
       "\n",
       "[5 rows x 33 columns]"
      ]
     },
     "execution_count": 27,
     "metadata": {},
     "output_type": "execute_result"
    }
   ],
   "source": [
    "mtDfInter01.limit(10).toPandas().head()"
   ]
  },
  {
   "cell_type": "code",
   "execution_count": 28,
   "metadata": {},
   "outputs": [
    {
     "data": {
      "text/plain": [
       "3578079"
      ]
     },
     "execution_count": 28,
     "metadata": {},
     "output_type": "execute_result"
    }
   ],
   "source": [
    "mtDfInter01.count()  #2,210,592 #3,578,079"
   ]
  },
  {
   "cell_type": "code",
   "execution_count": 29,
   "metadata": {},
   "outputs": [],
   "source": [
    "mtDfInter01.coalesce(5).write.format(\"parquet\").mode(\"overwrite\").save(\"../prepData/mt_variables_iniciales.parquet\")"
   ]
  },
  {
   "cell_type": "markdown",
   "metadata": {},
   "source": [
    "### Contactos distintos"
   ]
  },
  {
   "cell_type": "code",
   "execution_count": 12,
   "metadata": {},
   "outputs": [],
   "source": [
    "mtDf.select(\"origen\",\"destino\").coalesce(5).write.format(\"parquet\").mode(\"overwrite\").save(\"../prepData/mt_destinos.parquet\")"
   ]
  },
  {
   "cell_type": "code",
   "execution_count": null,
   "metadata": {},
   "outputs": [],
   "source": []
  }
 ],
 "metadata": {
  "kernelspec": {
   "display_name": "Python 3",
   "language": "python",
   "name": "python3"
  },
  "language_info": {
   "codemirror_mode": {
    "name": "ipython",
    "version": 3
   },
   "file_extension": ".py",
   "mimetype": "text/x-python",
   "name": "python",
   "nbconvert_exporter": "python",
   "pygments_lexer": "ipython3",
   "version": "3.8.3"
  }
 },
 "nbformat": 4,
 "nbformat_minor": 4
}
